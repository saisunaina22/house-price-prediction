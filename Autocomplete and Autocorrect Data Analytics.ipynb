{
  "nbformat": 4,
  "nbformat_minor": 0,
  "metadata": {
    "colab": {
      "provenance": [],
      "authorship_tag": "ABX9TyMqbNsIq7x3L3+B6OVplTsA",
      "include_colab_link": true
    },
    "kernelspec": {
      "name": "python3",
      "display_name": "Python 3"
    },
    "language_info": {
      "name": "python"
    }
  },
  "cells": [
    {
      "cell_type": "markdown",
      "metadata": {
        "id": "view-in-github",
        "colab_type": "text"
      },
      "source": [
        "<a href=\"https://colab.research.google.com/github/saisunaina22/house-price-prediction/blob/main/Autocomplete%20and%20Autocorrect%20Data%20Analytics.ipynb\" target=\"_parent\"><img src=\"https://colab.research.google.com/assets/colab-badge.svg\" alt=\"Open In Colab\"/></a>"
      ]
    },
    {
      "cell_type": "code",
      "execution_count": null,
      "metadata": {
        "id": "22yrncNi2Uae"
      },
      "outputs": [],
      "source": [
        "import pandas as pd\n",
        "from sklearn.feature_extraction.text import CountVectorizer\n",
        "from sklearn.naive_bayes import MultinomialNB\n",
        "from sklearn.metrics import accuracy_score, classification_report\n",
        "# Load the dataset (replace with your own dataset)\n",
        "data = pd.read_csv(\"your_dataset.csv\")\n",
        "# Preprocess the text data (e.g., remove stop words, stemming,\n",
        "lemmatization)\n",
        "# ...\n",
        "# Split the dataset into training and testing sets\n",
        "X_train, X_test, y_train, y_test = train_test_split(data[\"text\"],\n",
        "data[\"label\"], test_size=0.2, random_state=42)\n",
        "# Create a CountVectorizer to convert text to numerical features\n",
        "vectorizer = CountVectorizer()\n",
        "X_train_vectorized = vectorizer.fit_transform(X_train)\n",
        "X_test_vectorized = vectorizer.transform(X_test)\n",
        "# Create a Naive Bayes classifier (adjust as needed)\n",
        "classifier = MultinomialNB()\n",
        "classifier.fit(X_train_vectorized, y_train)\n",
        "# Predict labels on the testing set\n",
        "y_pred = classifier.predict(X_test_vectorized)\n",
        "# Evaluate the classifier's performance\n",
        "accuracy = accuracy_score(y_test, y_pred)\n",
        "report = classification_report(y_test, y_pred)\n",
        "print(\"Accuracy:\", accuracy)\n",
        "print(\"Classification Report:\\n\", report)\n",
        "# Implement autocomplete and autocorrect functionalities\n",
        "# ...\n"
      ]
    }
  ]
}